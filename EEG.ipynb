{
 "cells": [
  {
   "cell_type": "code",
   "execution_count": 100,
   "metadata": {},
   "outputs": [],
   "source": [
    "import scipy.io\n",
    "import rawpy\n",
    "import mne\n",
    "import numpy as np\n",
    "import matplotlib.pyplot as plt\n",
    "from mne.time_frequency import psd_welch,tfr_morlet\n",
    "import pandas as pd\n",
    "import os\n",
    "import scipy.stats\n",
    "import scipy\n",
    "import numpy as np\n",
    "import obspy\n",
    "import obspy.signal.filter\n",
    "%gui qt\n",
    "%matplotlib qt"
   ]
  },
  {
   "cell_type": "code",
   "execution_count": 101,
   "metadata": {},
   "outputs": [
    {
     "name": "stdout",
     "output_type": "stream",
     "text": [
      "CV_20 CAT_35rejected.set\n",
      "CV_23_CAT_35rejected.set\n",
      "CV_25_CAT_35rejected.set\n",
      "CV_32_cat_35ICA.set\n",
      "cv_33_catpop_filter_cleaned.set\n",
      "DF_12_catpop_filter_cleaned.set\n",
      "ER_03_CATpop_filter_ICA_cleaned.set\n",
      "FG_13_CATpop_filter_cleaned.set\n",
      "HJ_15_CATpop_filter_ICA_cleaned.set\n",
      "IO_08_CATpop_filter_ICA_cleaned.set\n",
      "RT_04_CATpop_filtr_ICA_recznie.set\n",
      "SD_11_CATpop_filter_ICA_recznie.set\n",
      "TY_05_CATpop_filtr_ICA_recznie.set\n",
      "XC_19_CATpop_filtr_ICA_recznie.set\n",
      "YU_06_catpop_filtr_ICA_recznie.set\n",
      "ZX_18_CATpop_filtr_ICA_recznie.set\n"
     ]
    }
   ],
   "source": [
    "sets = []\n",
    "for i in os.listdir('C:/Users/Adam/Desktop/do_analiz/'): #ścieżka do folderu z plikami - tam muszą być .set i .fdt\n",
    "    if i[-3:] == 'set': # jeżeli plik ma końcówkę set to ładuje plik\n",
    "        sets.append(i)\n",
    "        print(i)"
   ]
  },
  {
   "cell_type": "code",
   "execution_count": 268,
   "metadata": {
    "scrolled": false
   },
   "outputs": [
    {
     "name": "stdout",
     "output_type": "stream",
     "text": [
      "Reading C:/Users/Adam/Desktop/do_analiz\\CV_20 CAT_35rejected.fdt\n",
      "Reading 0 ... 521013  =      0.000 ...  1042.026 secs...\n"
     ]
    },
    {
     "name": "stderr",
     "output_type": "stream",
     "text": [
      "<ipython-input-268-bb2e3f46edb1>:3: RuntimeWarning: 1 channel names are too long, have been truncated to 15 characters:\n",
      "['Dongle Timestamp']\n",
      "  rws.append(mne.io.read_raw_eeglab('C:/Users/Adam/Desktop/do_analiz/{}'.format(i), preload=True)) #ładuje pliki, ten sam folder co poprzednio\n"
     ]
    },
    {
     "name": "stdout",
     "output_type": "stream",
     "text": [
      "Reading C:/Users/Adam/Desktop/do_analiz\\CV_23_CAT_35rejected.fdt\n",
      "Reading 0 ... 537369  =      0.000 ...  1074.738 secs...\n"
     ]
    },
    {
     "name": "stderr",
     "output_type": "stream",
     "text": [
      "<ipython-input-268-bb2e3f46edb1>:3: RuntimeWarning: The data contains 'boundary' events, indicating data discontinuities. Be cautious of filtering and epoching around these events.\n",
      "  rws.append(mne.io.read_raw_eeglab('C:/Users/Adam/Desktop/do_analiz/{}'.format(i), preload=True)) #ładuje pliki, ten sam folder co poprzednio\n",
      "<ipython-input-268-bb2e3f46edb1>:3: RuntimeWarning: 1 channel names are too long, have been truncated to 15 characters:\n",
      "['Dongle Timestamp']\n",
      "  rws.append(mne.io.read_raw_eeglab('C:/Users/Adam/Desktop/do_analiz/{}'.format(i), preload=True)) #ładuje pliki, ten sam folder co poprzednio\n"
     ]
    },
    {
     "name": "stdout",
     "output_type": "stream",
     "text": [
      "Reading C:/Users/Adam/Desktop/do_analiz\\CV_25_CAT_35rejected.fdt\n",
      "Reading 0 ... 589344  =      0.000 ...  1178.688 secs...\n"
     ]
    },
    {
     "name": "stderr",
     "output_type": "stream",
     "text": [
      "<ipython-input-268-bb2e3f46edb1>:3: RuntimeWarning: The data contains 'boundary' events, indicating data discontinuities. Be cautious of filtering and epoching around these events.\n",
      "  rws.append(mne.io.read_raw_eeglab('C:/Users/Adam/Desktop/do_analiz/{}'.format(i), preload=True)) #ładuje pliki, ten sam folder co poprzednio\n",
      "<ipython-input-268-bb2e3f46edb1>:3: RuntimeWarning: 1 channel names are too long, have been truncated to 15 characters:\n",
      "['Dongle Timestamp']\n",
      "  rws.append(mne.io.read_raw_eeglab('C:/Users/Adam/Desktop/do_analiz/{}'.format(i), preload=True)) #ładuje pliki, ten sam folder co poprzednio\n"
     ]
    },
    {
     "name": "stdout",
     "output_type": "stream",
     "text": [
      "Reading C:/Users/Adam/Desktop/do_analiz\\CV_32_cat_35ICA.fdt\n",
      "Reading 0 ... 524399  =      0.000 ...  1048.798 secs...\n"
     ]
    },
    {
     "name": "stderr",
     "output_type": "stream",
     "text": [
      "<ipython-input-268-bb2e3f46edb1>:3: RuntimeWarning: The data contains 'boundary' events, indicating data discontinuities. Be cautious of filtering and epoching around these events.\n",
      "  rws.append(mne.io.read_raw_eeglab('C:/Users/Adam/Desktop/do_analiz/{}'.format(i), preload=True)) #ładuje pliki, ten sam folder co poprzednio\n",
      "<ipython-input-268-bb2e3f46edb1>:3: RuntimeWarning: 1 channel names are too long, have been truncated to 15 characters:\n",
      "['Dongle Timestamp']\n",
      "  rws.append(mne.io.read_raw_eeglab('C:/Users/Adam/Desktop/do_analiz/{}'.format(i), preload=True)) #ładuje pliki, ten sam folder co poprzednio\n"
     ]
    },
    {
     "name": "stdout",
     "output_type": "stream",
     "text": [
      "Reading C:/Users/Adam/Desktop/do_analiz\\cv_33_catpop_filter_cleaned.fdt\n",
      "Reading 0 ... 499095  =      0.000 ...   998.190 secs...\n"
     ]
    },
    {
     "name": "stderr",
     "output_type": "stream",
     "text": [
      "<ipython-input-268-bb2e3f46edb1>:3: RuntimeWarning: 1 channel names are too long, have been truncated to 15 characters:\n",
      "['Dongle Timestamp']\n",
      "  rws.append(mne.io.read_raw_eeglab('C:/Users/Adam/Desktop/do_analiz/{}'.format(i), preload=True)) #ładuje pliki, ten sam folder co poprzednio\n"
     ]
    },
    {
     "name": "stdout",
     "output_type": "stream",
     "text": [
      "Reading C:/Users/Adam/Desktop/do_analiz\\DF_12_catpop_filter_cleaned.fdt\n",
      "Reading 0 ... 452882  =      0.000 ...   905.764 secs...\n"
     ]
    },
    {
     "name": "stderr",
     "output_type": "stream",
     "text": [
      "<ipython-input-268-bb2e3f46edb1>:3: RuntimeWarning: Limited 1 annotation(s) that were expanding outside the data range.\n",
      "  rws.append(mne.io.read_raw_eeglab('C:/Users/Adam/Desktop/do_analiz/{}'.format(i), preload=True)) #ładuje pliki, ten sam folder co poprzednio\n",
      "<ipython-input-268-bb2e3f46edb1>:3: RuntimeWarning: The data contains 'boundary' events, indicating data discontinuities. Be cautious of filtering and epoching around these events.\n",
      "  rws.append(mne.io.read_raw_eeglab('C:/Users/Adam/Desktop/do_analiz/{}'.format(i), preload=True)) #ładuje pliki, ten sam folder co poprzednio\n",
      "<ipython-input-268-bb2e3f46edb1>:3: RuntimeWarning: 1 channel names are too long, have been truncated to 15 characters:\n",
      "['Dongle Timestamp']\n",
      "  rws.append(mne.io.read_raw_eeglab('C:/Users/Adam/Desktop/do_analiz/{}'.format(i), preload=True)) #ładuje pliki, ten sam folder co poprzednio\n"
     ]
    },
    {
     "name": "stdout",
     "output_type": "stream",
     "text": [
      "Reading C:/Users/Adam/Desktop/do_analiz\\ER_03_CATpop_filter_ICA_cleaned.fdt\n",
      "Reading 0 ... 516253  =      0.000 ...  1032.506 secs...\n"
     ]
    },
    {
     "name": "stderr",
     "output_type": "stream",
     "text": [
      "<ipython-input-268-bb2e3f46edb1>:3: RuntimeWarning: The data contains 'boundary' events, indicating data discontinuities. Be cautious of filtering and epoching around these events.\n",
      "  rws.append(mne.io.read_raw_eeglab('C:/Users/Adam/Desktop/do_analiz/{}'.format(i), preload=True)) #ładuje pliki, ten sam folder co poprzednio\n",
      "<ipython-input-268-bb2e3f46edb1>:3: RuntimeWarning: 1 channel names are too long, have been truncated to 15 characters:\n",
      "['Dongle Timestamp']\n",
      "  rws.append(mne.io.read_raw_eeglab('C:/Users/Adam/Desktop/do_analiz/{}'.format(i), preload=True)) #ładuje pliki, ten sam folder co poprzednio\n"
     ]
    },
    {
     "name": "stdout",
     "output_type": "stream",
     "text": [
      "Reading C:/Users/Adam/Desktop/do_analiz\\FG_13_CATpop_filter_cleaned.fdt\n",
      "Reading 0 ... 538736  =      0.000 ...  1077.472 secs...\n"
     ]
    },
    {
     "name": "stderr",
     "output_type": "stream",
     "text": [
      "<ipython-input-268-bb2e3f46edb1>:3: RuntimeWarning: Limited 1 annotation(s) that were expanding outside the data range.\n",
      "  rws.append(mne.io.read_raw_eeglab('C:/Users/Adam/Desktop/do_analiz/{}'.format(i), preload=True)) #ładuje pliki, ten sam folder co poprzednio\n",
      "<ipython-input-268-bb2e3f46edb1>:3: RuntimeWarning: The data contains 'boundary' events, indicating data discontinuities. Be cautious of filtering and epoching around these events.\n",
      "  rws.append(mne.io.read_raw_eeglab('C:/Users/Adam/Desktop/do_analiz/{}'.format(i), preload=True)) #ładuje pliki, ten sam folder co poprzednio\n",
      "<ipython-input-268-bb2e3f46edb1>:3: RuntimeWarning: 1 channel names are too long, have been truncated to 15 characters:\n",
      "['Dongle Timestamp']\n",
      "  rws.append(mne.io.read_raw_eeglab('C:/Users/Adam/Desktop/do_analiz/{}'.format(i), preload=True)) #ładuje pliki, ten sam folder co poprzednio\n"
     ]
    },
    {
     "name": "stdout",
     "output_type": "stream",
     "text": [
      "Reading C:/Users/Adam/Desktop/do_analiz\\HJ_15_CATpop_filter_ICA_cleaned.fdt\n",
      "Reading 0 ... 519657  =      0.000 ...  1039.314 secs...\n"
     ]
    },
    {
     "name": "stderr",
     "output_type": "stream",
     "text": [
      "<ipython-input-268-bb2e3f46edb1>:3: RuntimeWarning: The data contains 'boundary' events, indicating data discontinuities. Be cautious of filtering and epoching around these events.\n",
      "  rws.append(mne.io.read_raw_eeglab('C:/Users/Adam/Desktop/do_analiz/{}'.format(i), preload=True)) #ładuje pliki, ten sam folder co poprzednio\n",
      "<ipython-input-268-bb2e3f46edb1>:3: RuntimeWarning: 1 channel names are too long, have been truncated to 15 characters:\n",
      "['Dongle Timestamp']\n",
      "  rws.append(mne.io.read_raw_eeglab('C:/Users/Adam/Desktop/do_analiz/{}'.format(i), preload=True)) #ładuje pliki, ten sam folder co poprzednio\n"
     ]
    },
    {
     "name": "stdout",
     "output_type": "stream",
     "text": [
      "Reading C:/Users/Adam/Desktop/do_analiz\\IO_08_CATpop_filter_ICA_cleaned.fdt\n",
      "Reading 0 ... 495401  =      0.000 ...   990.802 secs...\n"
     ]
    },
    {
     "name": "stderr",
     "output_type": "stream",
     "text": [
      "<ipython-input-268-bb2e3f46edb1>:3: RuntimeWarning: The data contains 'boundary' events, indicating data discontinuities. Be cautious of filtering and epoching around these events.\n",
      "  rws.append(mne.io.read_raw_eeglab('C:/Users/Adam/Desktop/do_analiz/{}'.format(i), preload=True)) #ładuje pliki, ten sam folder co poprzednio\n",
      "<ipython-input-268-bb2e3f46edb1>:3: RuntimeWarning: 1 channel names are too long, have been truncated to 15 characters:\n",
      "['Dongle Timestamp']\n",
      "  rws.append(mne.io.read_raw_eeglab('C:/Users/Adam/Desktop/do_analiz/{}'.format(i), preload=True)) #ładuje pliki, ten sam folder co poprzednio\n"
     ]
    },
    {
     "name": "stdout",
     "output_type": "stream",
     "text": [
      "Reading C:/Users/Adam/Desktop/do_analiz\\RT_04_CATpop_filtr_ICA_recznie.fdt\n",
      "Reading 0 ... 514411  =      0.000 ...  1028.822 secs...\n"
     ]
    },
    {
     "name": "stderr",
     "output_type": "stream",
     "text": [
      "<ipython-input-268-bb2e3f46edb1>:3: RuntimeWarning: The data contains 'boundary' events, indicating data discontinuities. Be cautious of filtering and epoching around these events.\n",
      "  rws.append(mne.io.read_raw_eeglab('C:/Users/Adam/Desktop/do_analiz/{}'.format(i), preload=True)) #ładuje pliki, ten sam folder co poprzednio\n",
      "<ipython-input-268-bb2e3f46edb1>:3: RuntimeWarning: 1 channel names are too long, have been truncated to 15 characters:\n",
      "['Dongle Timestamp']\n",
      "  rws.append(mne.io.read_raw_eeglab('C:/Users/Adam/Desktop/do_analiz/{}'.format(i), preload=True)) #ładuje pliki, ten sam folder co poprzednio\n"
     ]
    },
    {
     "name": "stdout",
     "output_type": "stream",
     "text": [
      "Reading C:/Users/Adam/Desktop/do_analiz\\SD_11_CATpop_filter_ICA_recznie.fdt\n",
      "Reading 0 ... 496306  =      0.000 ...   992.612 secs...\n"
     ]
    },
    {
     "name": "stderr",
     "output_type": "stream",
     "text": [
      "<ipython-input-268-bb2e3f46edb1>:3: RuntimeWarning: The data contains 'boundary' events, indicating data discontinuities. Be cautious of filtering and epoching around these events.\n",
      "  rws.append(mne.io.read_raw_eeglab('C:/Users/Adam/Desktop/do_analiz/{}'.format(i), preload=True)) #ładuje pliki, ten sam folder co poprzednio\n",
      "<ipython-input-268-bb2e3f46edb1>:3: RuntimeWarning: 1 channel names are too long, have been truncated to 15 characters:\n",
      "['Dongle Timestamp']\n",
      "  rws.append(mne.io.read_raw_eeglab('C:/Users/Adam/Desktop/do_analiz/{}'.format(i), preload=True)) #ładuje pliki, ten sam folder co poprzednio\n"
     ]
    },
    {
     "name": "stdout",
     "output_type": "stream",
     "text": [
      "Reading C:/Users/Adam/Desktop/do_analiz\\TY_05_CATpop_filtr_ICA_recznie.fdt\n",
      "Reading 0 ... 519979  =      0.000 ...  1039.958 secs...\n"
     ]
    },
    {
     "name": "stderr",
     "output_type": "stream",
     "text": [
      "<ipython-input-268-bb2e3f46edb1>:3: RuntimeWarning: The data contains 'boundary' events, indicating data discontinuities. Be cautious of filtering and epoching around these events.\n",
      "  rws.append(mne.io.read_raw_eeglab('C:/Users/Adam/Desktop/do_analiz/{}'.format(i), preload=True)) #ładuje pliki, ten sam folder co poprzednio\n",
      "<ipython-input-268-bb2e3f46edb1>:3: RuntimeWarning: 1 channel names are too long, have been truncated to 15 characters:\n",
      "['Dongle Timestamp']\n",
      "  rws.append(mne.io.read_raw_eeglab('C:/Users/Adam/Desktop/do_analiz/{}'.format(i), preload=True)) #ładuje pliki, ten sam folder co poprzednio\n"
     ]
    },
    {
     "name": "stdout",
     "output_type": "stream",
     "text": [
      "Reading C:/Users/Adam/Desktop/do_analiz\\XC_19_CATpop_filtr_ICA_recznie.fdt\n",
      "Reading 0 ... 495343  =      0.000 ...   990.686 secs...\n"
     ]
    },
    {
     "name": "stderr",
     "output_type": "stream",
     "text": [
      "<ipython-input-268-bb2e3f46edb1>:3: RuntimeWarning: The data contains 'boundary' events, indicating data discontinuities. Be cautious of filtering and epoching around these events.\n",
      "  rws.append(mne.io.read_raw_eeglab('C:/Users/Adam/Desktop/do_analiz/{}'.format(i), preload=True)) #ładuje pliki, ten sam folder co poprzednio\n",
      "<ipython-input-268-bb2e3f46edb1>:3: RuntimeWarning: 1 channel names are too long, have been truncated to 15 characters:\n",
      "['Dongle Timestamp']\n",
      "  rws.append(mne.io.read_raw_eeglab('C:/Users/Adam/Desktop/do_analiz/{}'.format(i), preload=True)) #ładuje pliki, ten sam folder co poprzednio\n"
     ]
    },
    {
     "name": "stdout",
     "output_type": "stream",
     "text": [
      "Reading C:/Users/Adam/Desktop/do_analiz\\YU_06_catpop_filtr_ICA_recznie.fdt\n",
      "Reading 0 ... 359324  =      0.000 ...   718.648 secs...\n"
     ]
    },
    {
     "name": "stderr",
     "output_type": "stream",
     "text": [
      "<ipython-input-268-bb2e3f46edb1>:3: RuntimeWarning: The data contains 'boundary' events, indicating data discontinuities. Be cautious of filtering and epoching around these events.\n",
      "  rws.append(mne.io.read_raw_eeglab('C:/Users/Adam/Desktop/do_analiz/{}'.format(i), preload=True)) #ładuje pliki, ten sam folder co poprzednio\n",
      "<ipython-input-268-bb2e3f46edb1>:3: RuntimeWarning: 1 channel names are too long, have been truncated to 15 characters:\n",
      "['Dongle Timestamp']\n",
      "  rws.append(mne.io.read_raw_eeglab('C:/Users/Adam/Desktop/do_analiz/{}'.format(i), preload=True)) #ładuje pliki, ten sam folder co poprzednio\n",
      "<ipython-input-268-bb2e3f46edb1>:3: RuntimeWarning: Limited 2 annotation(s) that were expanding outside the data range.\n",
      "  rws.append(mne.io.read_raw_eeglab('C:/Users/Adam/Desktop/do_analiz/{}'.format(i), preload=True)) #ładuje pliki, ten sam folder co poprzednio\n",
      "<ipython-input-268-bb2e3f46edb1>:3: RuntimeWarning: The data contains 'boundary' events, indicating data discontinuities. Be cautious of filtering and epoching around these events.\n",
      "  rws.append(mne.io.read_raw_eeglab('C:/Users/Adam/Desktop/do_analiz/{}'.format(i), preload=True)) #ładuje pliki, ten sam folder co poprzednio\n"
     ]
    },
    {
     "name": "stdout",
     "output_type": "stream",
     "text": [
      "Reading C:/Users/Adam/Desktop/do_analiz\\ZX_18_CATpop_filtr_ICA_recznie.fdt\n",
      "Reading 0 ... 528373  =      0.000 ...  1056.746 secs...\n"
     ]
    },
    {
     "name": "stderr",
     "output_type": "stream",
     "text": [
      "<ipython-input-268-bb2e3f46edb1>:3: RuntimeWarning: 1 channel names are too long, have been truncated to 15 characters:\n",
      "['Dongle Timestamp']\n",
      "  rws.append(mne.io.read_raw_eeglab('C:/Users/Adam/Desktop/do_analiz/{}'.format(i), preload=True)) #ładuje pliki, ten sam folder co poprzednio\n"
     ]
    },
    {
     "name": "stdout",
     "output_type": "stream",
     "text": [
      "Filtering raw data in 1 contiguous segment\n",
      "Setting up band-pass filter from 0.5 - 8 Hz\n",
      "\n",
      "FIR filter parameters\n",
      "---------------------\n",
      "Designing a one-pass, zero-phase, non-causal bandpass filter:\n",
      "- Windowed time-domain design (firwin) method\n",
      "- Hamming window with 0.0194 passband ripple and 53 dB stopband attenuation\n",
      "- Lower passband edge: 0.50\n",
      "- Lower transition bandwidth: 0.50 Hz (-6 dB cutoff frequency: 0.25 Hz)\n",
      "- Upper passband edge: 8.00 Hz\n",
      "- Upper transition bandwidth: 2.00 Hz (-6 dB cutoff frequency: 9.00 Hz)\n",
      "- Filter length: 3301 samples (6.602 sec)\n",
      "\n"
     ]
    },
    {
     "name": "stderr",
     "output_type": "stream",
     "text": [
      "<ipython-input-268-bb2e3f46edb1>:3: RuntimeWarning: Limited 1 annotation(s) that were expanding outside the data range.\n",
      "  rws.append(mne.io.read_raw_eeglab('C:/Users/Adam/Desktop/do_analiz/{}'.format(i), preload=True)) #ładuje pliki, ten sam folder co poprzednio\n",
      "<ipython-input-268-bb2e3f46edb1>:3: RuntimeWarning: The data contains 'boundary' events, indicating data discontinuities. Be cautious of filtering and epoching around these events.\n",
      "  rws.append(mne.io.read_raw_eeglab('C:/Users/Adam/Desktop/do_analiz/{}'.format(i), preload=True)) #ładuje pliki, ten sam folder co poprzednio\n"
     ]
    },
    {
     "name": "stdout",
     "output_type": "stream",
     "text": [
      "Filtering raw data in 1 contiguous segment\n",
      "Setting up band-pass filter from 0.5 - 8 Hz\n",
      "\n",
      "FIR filter parameters\n",
      "---------------------\n",
      "Designing a one-pass, zero-phase, non-causal bandpass filter:\n",
      "- Windowed time-domain design (firwin) method\n",
      "- Hamming window with 0.0194 passband ripple and 53 dB stopband attenuation\n",
      "- Lower passband edge: 0.50\n",
      "- Lower transition bandwidth: 0.50 Hz (-6 dB cutoff frequency: 0.25 Hz)\n",
      "- Upper passband edge: 8.00 Hz\n",
      "- Upper transition bandwidth: 2.00 Hz (-6 dB cutoff frequency: 9.00 Hz)\n",
      "- Filter length: 3301 samples (6.602 sec)\n",
      "\n",
      "Filtering raw data in 1 contiguous segment\n",
      "Setting up band-pass filter from 0.5 - 8 Hz\n",
      "\n",
      "FIR filter parameters\n",
      "---------------------\n",
      "Designing a one-pass, zero-phase, non-causal bandpass filter:\n",
      "- Windowed time-domain design (firwin) method\n",
      "- Hamming window with 0.0194 passband ripple and 53 dB stopband attenuation\n",
      "- Lower passband edge: 0.50\n",
      "- Lower transition bandwidth: 0.50 Hz (-6 dB cutoff frequency: 0.25 Hz)\n",
      "- Upper passband edge: 8.00 Hz\n",
      "- Upper transition bandwidth: 2.00 Hz (-6 dB cutoff frequency: 9.00 Hz)\n",
      "- Filter length: 3301 samples (6.602 sec)\n",
      "\n",
      "Filtering raw data in 1 contiguous segment\n",
      "Setting up band-pass filter from 0.5 - 8 Hz\n",
      "\n",
      "FIR filter parameters\n",
      "---------------------\n",
      "Designing a one-pass, zero-phase, non-causal bandpass filter:\n",
      "- Windowed time-domain design (firwin) method\n",
      "- Hamming window with 0.0194 passband ripple and 53 dB stopband attenuation\n",
      "- Lower passband edge: 0.50\n",
      "- Lower transition bandwidth: 0.50 Hz (-6 dB cutoff frequency: 0.25 Hz)\n",
      "- Upper passband edge: 8.00 Hz\n",
      "- Upper transition bandwidth: 2.00 Hz (-6 dB cutoff frequency: 9.00 Hz)\n",
      "- Filter length: 3301 samples (6.602 sec)\n",
      "\n",
      "Filtering raw data in 1 contiguous segment\n",
      "Setting up band-pass filter from 0.5 - 8 Hz\n",
      "\n",
      "FIR filter parameters\n",
      "---------------------\n",
      "Designing a one-pass, zero-phase, non-causal bandpass filter:\n",
      "- Windowed time-domain design (firwin) method\n",
      "- Hamming window with 0.0194 passband ripple and 53 dB stopband attenuation\n",
      "- Lower passband edge: 0.50\n",
      "- Lower transition bandwidth: 0.50 Hz (-6 dB cutoff frequency: 0.25 Hz)\n",
      "- Upper passband edge: 8.00 Hz\n",
      "- Upper transition bandwidth: 2.00 Hz (-6 dB cutoff frequency: 9.00 Hz)\n",
      "- Filter length: 3301 samples (6.602 sec)\n",
      "\n",
      "Filtering raw data in 1 contiguous segment\n",
      "Setting up band-pass filter from 0.5 - 8 Hz\n",
      "\n",
      "FIR filter parameters\n",
      "---------------------\n",
      "Designing a one-pass, zero-phase, non-causal bandpass filter:\n",
      "- Windowed time-domain design (firwin) method\n",
      "- Hamming window with 0.0194 passband ripple and 53 dB stopband attenuation\n",
      "- Lower passband edge: 0.50\n",
      "- Lower transition bandwidth: 0.50 Hz (-6 dB cutoff frequency: 0.25 Hz)\n",
      "- Upper passband edge: 8.00 Hz\n",
      "- Upper transition bandwidth: 2.00 Hz (-6 dB cutoff frequency: 9.00 Hz)\n",
      "- Filter length: 3301 samples (6.602 sec)\n",
      "\n",
      "Filtering raw data in 1 contiguous segment\n",
      "Setting up band-pass filter from 0.5 - 8 Hz\n",
      "\n",
      "FIR filter parameters\n",
      "---------------------\n",
      "Designing a one-pass, zero-phase, non-causal bandpass filter:\n",
      "- Windowed time-domain design (firwin) method\n",
      "- Hamming window with 0.0194 passband ripple and 53 dB stopband attenuation\n",
      "- Lower passband edge: 0.50\n",
      "- Lower transition bandwidth: 0.50 Hz (-6 dB cutoff frequency: 0.25 Hz)\n",
      "- Upper passband edge: 8.00 Hz\n",
      "- Upper transition bandwidth: 2.00 Hz (-6 dB cutoff frequency: 9.00 Hz)\n",
      "- Filter length: 3301 samples (6.602 sec)\n",
      "\n",
      "Filtering raw data in 1 contiguous segment\n",
      "Setting up band-pass filter from 0.5 - 8 Hz\n",
      "\n",
      "FIR filter parameters\n",
      "---------------------\n",
      "Designing a one-pass, zero-phase, non-causal bandpass filter:\n",
      "- Windowed time-domain design (firwin) method\n",
      "- Hamming window with 0.0194 passband ripple and 53 dB stopband attenuation\n",
      "- Lower passband edge: 0.50\n",
      "- Lower transition bandwidth: 0.50 Hz (-6 dB cutoff frequency: 0.25 Hz)\n",
      "- Upper passband edge: 8.00 Hz\n",
      "- Upper transition bandwidth: 2.00 Hz (-6 dB cutoff frequency: 9.00 Hz)\n",
      "- Filter length: 3301 samples (6.602 sec)\n",
      "\n",
      "Filtering raw data in 1 contiguous segment\n",
      "Setting up band-pass filter from 0.5 - 8 Hz\n",
      "\n",
      "FIR filter parameters\n",
      "---------------------\n",
      "Designing a one-pass, zero-phase, non-causal bandpass filter:\n",
      "- Windowed time-domain design (firwin) method\n",
      "- Hamming window with 0.0194 passband ripple and 53 dB stopband attenuation\n",
      "- Lower passband edge: 0.50\n",
      "- Lower transition bandwidth: 0.50 Hz (-6 dB cutoff frequency: 0.25 Hz)\n",
      "- Upper passband edge: 8.00 Hz\n",
      "- Upper transition bandwidth: 2.00 Hz (-6 dB cutoff frequency: 9.00 Hz)\n",
      "- Filter length: 3301 samples (6.602 sec)\n",
      "\n",
      "Filtering raw data in 1 contiguous segment\n",
      "Setting up band-pass filter from 0.5 - 8 Hz\n",
      "\n",
      "FIR filter parameters\n",
      "---------------------\n",
      "Designing a one-pass, zero-phase, non-causal bandpass filter:\n",
      "- Windowed time-domain design (firwin) method\n",
      "- Hamming window with 0.0194 passband ripple and 53 dB stopband attenuation\n",
      "- Lower passband edge: 0.50\n",
      "- Lower transition bandwidth: 0.50 Hz (-6 dB cutoff frequency: 0.25 Hz)\n",
      "- Upper passband edge: 8.00 Hz\n",
      "- Upper transition bandwidth: 2.00 Hz (-6 dB cutoff frequency: 9.00 Hz)\n",
      "- Filter length: 3301 samples (6.602 sec)\n",
      "\n",
      "Filtering raw data in 1 contiguous segment\n",
      "Setting up band-pass filter from 0.5 - 8 Hz\n",
      "\n",
      "FIR filter parameters\n",
      "---------------------\n",
      "Designing a one-pass, zero-phase, non-causal bandpass filter:\n",
      "- Windowed time-domain design (firwin) method\n",
      "- Hamming window with 0.0194 passband ripple and 53 dB stopband attenuation\n",
      "- Lower passband edge: 0.50\n",
      "- Lower transition bandwidth: 0.50 Hz (-6 dB cutoff frequency: 0.25 Hz)\n",
      "- Upper passband edge: 8.00 Hz\n",
      "- Upper transition bandwidth: 2.00 Hz (-6 dB cutoff frequency: 9.00 Hz)\n",
      "- Filter length: 3301 samples (6.602 sec)\n",
      "\n",
      "Filtering raw data in 1 contiguous segment\n",
      "Setting up band-pass filter from 0.5 - 8 Hz\n",
      "\n",
      "FIR filter parameters\n",
      "---------------------\n",
      "Designing a one-pass, zero-phase, non-causal bandpass filter:\n",
      "- Windowed time-domain design (firwin) method\n",
      "- Hamming window with 0.0194 passband ripple and 53 dB stopband attenuation\n",
      "- Lower passband edge: 0.50\n",
      "- Lower transition bandwidth: 0.50 Hz (-6 dB cutoff frequency: 0.25 Hz)\n",
      "- Upper passband edge: 8.00 Hz\n",
      "- Upper transition bandwidth: 2.00 Hz (-6 dB cutoff frequency: 9.00 Hz)\n",
      "- Filter length: 3301 samples (6.602 sec)\n",
      "\n",
      "Filtering raw data in 1 contiguous segment\n",
      "Setting up band-pass filter from 0.5 - 8 Hz\n",
      "\n",
      "FIR filter parameters\n",
      "---------------------\n",
      "Designing a one-pass, zero-phase, non-causal bandpass filter:\n",
      "- Windowed time-domain design (firwin) method\n",
      "- Hamming window with 0.0194 passband ripple and 53 dB stopband attenuation\n",
      "- Lower passband edge: 0.50\n",
      "- Lower transition bandwidth: 0.50 Hz (-6 dB cutoff frequency: 0.25 Hz)\n",
      "- Upper passband edge: 8.00 Hz\n",
      "- Upper transition bandwidth: 2.00 Hz (-6 dB cutoff frequency: 9.00 Hz)\n",
      "- Filter length: 3301 samples (6.602 sec)\n",
      "\n",
      "Filtering raw data in 1 contiguous segment\n",
      "Setting up band-pass filter from 0.5 - 8 Hz\n",
      "\n",
      "FIR filter parameters\n",
      "---------------------\n",
      "Designing a one-pass, zero-phase, non-causal bandpass filter:\n",
      "- Windowed time-domain design (firwin) method\n",
      "- Hamming window with 0.0194 passband ripple and 53 dB stopband attenuation\n",
      "- Lower passband edge: 0.50\n",
      "- Lower transition bandwidth: 0.50 Hz (-6 dB cutoff frequency: 0.25 Hz)\n",
      "- Upper passband edge: 8.00 Hz\n",
      "- Upper transition bandwidth: 2.00 Hz (-6 dB cutoff frequency: 9.00 Hz)\n",
      "- Filter length: 3301 samples (6.602 sec)\n",
      "\n",
      "Filtering raw data in 1 contiguous segment\n",
      "Setting up band-pass filter from 0.5 - 8 Hz\n",
      "\n",
      "FIR filter parameters\n",
      "---------------------\n",
      "Designing a one-pass, zero-phase, non-causal bandpass filter:\n",
      "- Windowed time-domain design (firwin) method\n",
      "- Hamming window with 0.0194 passband ripple and 53 dB stopband attenuation\n",
      "- Lower passband edge: 0.50\n",
      "- Lower transition bandwidth: 0.50 Hz (-6 dB cutoff frequency: 0.25 Hz)\n",
      "- Upper passband edge: 8.00 Hz\n",
      "- Upper transition bandwidth: 2.00 Hz (-6 dB cutoff frequency: 9.00 Hz)\n",
      "- Filter length: 3301 samples (6.602 sec)\n",
      "\n",
      "Filtering raw data in 1 contiguous segment\n",
      "Setting up band-pass filter from 0.5 - 8 Hz\n",
      "\n",
      "FIR filter parameters\n",
      "---------------------\n",
      "Designing a one-pass, zero-phase, non-causal bandpass filter:\n",
      "- Windowed time-domain design (firwin) method\n",
      "- Hamming window with 0.0194 passband ripple and 53 dB stopband attenuation\n",
      "- Lower passband edge: 0.50\n",
      "- Lower transition bandwidth: 0.50 Hz (-6 dB cutoff frequency: 0.25 Hz)\n",
      "- Upper passband edge: 8.00 Hz\n",
      "- Upper transition bandwidth: 2.00 Hz (-6 dB cutoff frequency: 9.00 Hz)\n",
      "- Filter length: 3301 samples (6.602 sec)\n",
      "\n",
      "Used Annotations descriptions: ['A', 'B', 'C', 'E', 'F', 'H', 'I', 'K', 'L', 'M', 'N', 'O', 'P', 'R', 'S', 'T', 'U', 'W', 'X', 'X_corr', 'boundary', 'resp_3', 'resp_4', 'wrong']\n",
      "Used Annotations descriptions: ['A', 'B', 'C', 'E', 'F', 'H', 'I', 'K', 'L', 'M', 'N', 'O', 'P', 'R', 'S', 'T', 'U', 'W', 'X', 'X_corr', 'boundary', 'resp_3', 'resp_4', 'wrong']\n",
      "Used Annotations descriptions: ['A', 'B', 'C', 'E', 'F', 'H', 'I', 'K', 'L', 'M', 'N', 'O', 'P', 'R', 'S', 'T', 'U', 'W', 'X', 'X_corr', 'boundary', 'resp_3', 'resp_4']\n",
      "Used Annotations descriptions: ['A', 'B', 'C', 'E', 'F', 'H', 'I', 'K', 'L', 'M', 'N', 'O', 'P', 'R', 'S', 'T', 'U', 'W', 'X', 'X_corr', 'resp_3', 'resp_4']\n",
      "Used Annotations descriptions: ['A', 'B', 'C', 'E', 'F', 'H', 'I', 'K', 'L', 'M', 'N', 'O', 'P', 'R', 'S', 'T', 'U', 'W', 'X', 'X_corr', 'X_wrong', 'boundary', 'resp_3', 'resp_4', 'wrong']\n",
      "Used Annotations descriptions: ['A', 'B', 'C', 'E', 'F', 'H', 'I', 'K', 'L', 'M', 'N', 'O', 'P', 'R', 'S', 'T', 'U', 'W', 'X', 'X_corr', 'boundary', 'resp_3', 'resp_4']\n",
      "Used Annotations descriptions: ['A', 'B', 'C', 'E', 'F', 'H', 'I', 'K', 'L', 'M', 'N', 'O', 'P', 'R', 'S', 'T', 'U', 'W', 'X', 'X_corr', 'boundary', 'resp_3', 'resp_4', 'wrong']\n",
      "Used Annotations descriptions: ['A', 'B', 'C', 'E', 'F', 'H', 'I', 'K', 'L', 'M', 'N', 'O', 'P', 'R', 'S', 'T', 'U', 'W', 'X', 'X_corr', 'X_wrong', 'boundary', 'resp_3', 'resp_4']\n",
      "Used Annotations descriptions: ['A', 'B', 'C', 'E', 'F', 'H', 'I', 'K', 'L', 'M', 'N', 'O', 'P', 'R', 'S', 'T', 'U', 'W', 'X', 'X_corr', 'boundary', 'resp_3', 'resp_4', 'wrong']\n",
      "Used Annotations descriptions: ['A', 'B', 'C', 'E', 'F', 'H', 'I', 'K', 'L', 'M', 'N', 'O', 'P', 'R', 'S', 'T', 'U', 'W', 'X', 'X_corr', 'boundary', 'litera', 'resp_3', 'resp_4', 'wrong']\n",
      "Used Annotations descriptions: ['A', 'B', 'C', 'E', 'F', 'H', 'I', 'K', 'L', 'M', 'N', 'O', 'P', 'R', 'S', 'T', 'U', 'W', 'X', 'X_corr', 'boundary', 'resp_3', 'resp_4', 'wrong']\n",
      "Used Annotations descriptions: ['A', 'B', 'C', 'E', 'F', 'H', 'I', 'K', 'L', 'M', 'N', 'O', 'P', 'R', 'S', 'T', 'U', 'W', 'X', 'X_corr', 'boundary', 'resp_3', 'resp_4', 'wrong']\n",
      "Used Annotations descriptions: ['A', 'B', 'C', 'E', 'F', 'H', 'I', 'K', 'L', 'M', 'N', 'O', 'P', 'R', 'S', 'T', 'U', 'W', 'X', 'X_corr', 'boundary', 'resp_3', 'resp_4', 'wrong']\n",
      "Used Annotations descriptions: ['A', 'B', 'C', 'E', 'F', 'H', 'I', 'K', 'L', 'M', 'N', 'O', 'P', 'R', 'S', 'T', 'U', 'W', 'X', 'X_corr', 'X_wrong', 'boundary', 'resp_3', 'resp_4', 'wrong']\n",
      "Used Annotations descriptions: ['A', 'B', 'C', 'E', 'F', 'H', 'I', 'K', 'L', 'M', 'N', 'O', 'P', 'R', 'S', 'T', 'U', 'W', 'X', 'X_corr', 'X_wrong', 'boundary', 'resp_3', 'resp_4', 'wrong']\n",
      "Used Annotations descriptions: ['A', 'B', 'C', 'E', 'F', 'H', 'I', 'K', 'L', 'M', 'N', 'O', 'P', 'R', 'S', 'T', 'U', 'W', 'X', 'X_corr', 'X_wrong', 'boundary', 'resp_3', 'resp_4', 'wrong']\n",
      "Not setting metadata\n",
      "Not setting metadata\n",
      "1011 matching events found\n",
      "Setting baseline interval to [-0.2, 0.0] sec\n",
      "Applying baseline correction (mode: mean)\n",
      "0 projection items activated\n",
      "Loading data for 1011 events and 501 original time points ...\n",
      "0 bad epochs dropped\n",
      "Not setting metadata\n",
      "Not setting metadata\n",
      "1008 matching events found\n",
      "Setting baseline interval to [-0.2, 0.0] sec\n",
      "Applying baseline correction (mode: mean)\n",
      "0 projection items activated\n",
      "Loading data for 1008 events and 501 original time points ...\n",
      "0 bad epochs dropped\n",
      "Not setting metadata\n",
      "Not setting metadata\n",
      "1019 matching events found\n",
      "Setting baseline interval to [-0.2, 0.0] sec\n",
      "Applying baseline correction (mode: mean)\n",
      "0 projection items activated\n",
      "Loading data for 1019 events and 501 original time points ...\n",
      "0 bad epochs dropped\n",
      "Not setting metadata\n",
      "Not setting metadata\n",
      "1020 matching events found\n",
      "Setting baseline interval to [-0.2, 0.0] sec\n",
      "Applying baseline correction (mode: mean)\n",
      "0 projection items activated\n",
      "Loading data for 1020 events and 501 original time points ...\n",
      "0 bad epochs dropped\n",
      "Not setting metadata\n",
      "Not setting metadata\n",
      "1001 matching events found\n",
      "Setting baseline interval to [-0.2, 0.0] sec\n",
      "Applying baseline correction (mode: mean)\n",
      "0 projection items activated\n",
      "Loading data for 1001 events and 501 original time points ...\n",
      "0 bad epochs dropped\n",
      "Not setting metadata\n",
      "Not setting metadata\n",
      "990 matching events found\n",
      "Setting baseline interval to [-0.2, 0.0] sec\n",
      "Applying baseline correction (mode: mean)\n",
      "0 projection items activated\n",
      "Loading data for 990 events and 501 original time points ...\n",
      "0 bad epochs dropped\n",
      "Not setting metadata\n",
      "Not setting metadata\n",
      "1018 matching events found\n",
      "Setting baseline interval to [-0.2, 0.0] sec\n",
      "Applying baseline correction (mode: mean)\n",
      "0 projection items activated\n",
      "Loading data for 1018 events and 501 original time points ...\n",
      "2 bad epochs dropped\n",
      "Not setting metadata\n",
      "Not setting metadata\n",
      "1024 matching events found\n",
      "Setting baseline interval to [-0.2, 0.0] sec\n",
      "Applying baseline correction (mode: mean)\n",
      "0 projection items activated\n",
      "Loading data for 1024 events and 501 original time points ...\n",
      "0 bad epochs dropped\n",
      "Not setting metadata\n",
      "Not setting metadata\n",
      "1011 matching events found\n",
      "Setting baseline interval to [-0.2, 0.0] sec\n",
      "Applying baseline correction (mode: mean)\n",
      "0 projection items activated\n",
      "Loading data for 1011 events and 501 original time points ...\n",
      "0 bad epochs dropped\n",
      "Not setting metadata\n",
      "Multiple event values for single event times found. Keeping the first occurrence and dropping all others.\n",
      "Not setting metadata\n",
      "989 matching events found\n",
      "Setting baseline interval to [-0.2, 0.0] sec\n",
      "Applying baseline correction (mode: mean)\n",
      "0 projection items activated\n",
      "Loading data for 989 events and 501 original time points ...\n",
      "0 bad epochs dropped\n",
      "Not setting metadata\n",
      "Not setting metadata\n",
      "1012 matching events found\n",
      "Setting baseline interval to [-0.2, 0.0] sec\n",
      "Applying baseline correction (mode: mean)\n",
      "0 projection items activated\n",
      "Loading data for 1012 events and 501 original time points ...\n",
      "0 bad epochs dropped\n",
      "Not setting metadata\n",
      "Not setting metadata\n",
      "1005 matching events found\n",
      "Setting baseline interval to [-0.2, 0.0] sec\n",
      "Applying baseline correction (mode: mean)\n",
      "0 projection items activated\n",
      "Loading data for 1005 events and 501 original time points ...\n",
      "0 bad epochs dropped\n",
      "Not setting metadata\n",
      "Not setting metadata\n",
      "1015 matching events found\n",
      "Setting baseline interval to [-0.2, 0.0] sec\n",
      "Applying baseline correction (mode: mean)\n",
      "0 projection items activated\n",
      "Loading data for 1015 events and 501 original time points ...\n",
      "0 bad epochs dropped\n",
      "Not setting metadata\n",
      "Multiple event values for single event times found. Keeping the first occurrence and dropping all others.\n",
      "Not setting metadata\n",
      "979 matching events found\n",
      "Setting baseline interval to [-0.2, 0.0] sec\n",
      "Applying baseline correction (mode: mean)\n",
      "0 projection items activated\n",
      "Loading data for 979 events and 501 original time points ...\n",
      "0 bad epochs dropped\n",
      "Not setting metadata\n",
      "Multiple event values for single event times found. Keeping the first occurrence and dropping all others.\n",
      "Not setting metadata\n",
      "733 matching events found\n",
      "Setting baseline interval to [-0.2, 0.0] sec\n",
      "Applying baseline correction (mode: mean)\n",
      "0 projection items activated\n",
      "Loading data for 733 events and 501 original time points ...\n",
      "2 bad epochs dropped\n",
      "Not setting metadata\n",
      "Not setting metadata\n",
      "1021 matching events found\n",
      "Setting baseline interval to [-0.2, 0.0] sec\n",
      "Applying baseline correction (mode: mean)\n",
      "0 projection items activated\n",
      "Loading data for 1021 events and 501 original time points ...\n",
      "0 bad epochs dropped\n"
     ]
    }
   ],
   "source": [
    "rws = []\n",
    "for i in sets:\n",
    "    rws.append(mne.io.read_raw_eeglab('C:/Users/Adam/Desktop/do_analiz/{}'.format(i), preload=True)) #ładuje pliki, ten sam folder co poprzednio\n",
    "raws = []\n",
    "for i in rws:\n",
    "    raw = i.filter(0.5,8) # dla obwiedni (8,12)\n",
    "    raws.append(raw)\n",
    "events = []\n",
    "for raw in raws:\n",
    "    ev, ev_dict = mne.events_from_annotations(raw)\n",
    "    events.append([ev,ev_dict])\n",
    "epochs = []\n",
    "for i in range(len(events)):\n",
    "    epocha = mne.Epochs(raws[i], events[i][0], event_id=events[i][1], tmin=-0.2, tmax=0.8, preload=True,event_repeated='drop',baseline=(None,0))\n",
    "    try:\n",
    "        #'P4','Pz','P3', 'O1','O2', 'Cz','C4','C3', - pierwsze 3 do analiz, 2 ostatnie do obwiedni\n",
    "        epocha.drop_channels(['Cz','C4','C3','O1','O2','ACC_x','ACC_y','ACC_z',\"RSSI\",'Dongle Timestam','Head Timestamp','PC Timestamp','Sample_Counter',\"TSS\"]) #list odrzuconych kanałów\n",
    "        epochs.append(epocha)\n",
    "    except:\n",
    "        print(\"błąd\")"
   ]
  },
  {
   "cell_type": "code",
   "execution_count": 261,
   "metadata": {},
   "outputs": [
    {
     "data": {
      "text/plain": [
       "['P3', 'Cz', 'P4', 'C3', 'Pz', 'C4']"
      ]
     },
     "execution_count": 261,
     "metadata": {},
     "output_type": "execute_result"
    }
   ],
   "source": [
    "#epochs[0].ch_names #analizowane kanały\n",
    "#epochs[1].ch_names\n",
    "epochs[0].ch_names"
   ]
  },
  {
   "cell_type": "code",
   "execution_count": 269,
   "metadata": {},
   "outputs": [],
   "source": [
    "meanx = []\n",
    "for i in epochs:\n",
    "    meanx.append(i['X_corr'])#average()) #average() rysuje średnią - dobrze pokazuje jak wygląda P400 osoby\n",
    "    #mnx.append(i['X_corr'])\n",
    "#meanx[0].baseline.rescale"
   ]
  },
  {
   "cell_type": "code",
   "execution_count": 270,
   "metadata": {},
   "outputs": [],
   "source": [
    "res = []\n",
    "for i in epochs:\n",
    "    res.append(i[ 'B', 'C', 'E', 'F', 'H', 'I', 'K', 'L', 'M', 'N', 'O', 'P', 'R', 'S', 'T', 'U', 'W', 'X'][1:450:10])#.average())\n",
    "        #evoked = i[ 'B', 'C', 'E', 'F', 'H', 'I', 'K', 'L', 'M', 'N', 'O', 'P', 'R', 'S', 'T', 'U', 'W', 'X']\n",
    "        #res.append(evoked)"
   ]
  },
  {
   "cell_type": "code",
   "execution_count": 271,
   "metadata": {},
   "outputs": [],
   "source": [
    "a = []\n",
    "for i in epochs:\n",
    "    a.append(i['A'][::2])#.average())\n",
    "    #średnia dla kanałów C3,C4,Cz dla CV_20 CAT (dla trzech warunków)"
   ]
  },
  {
   "cell_type": "code",
   "execution_count": 109,
   "metadata": {
    "scrolled": true
   },
   "outputs": [
    {
     "name": "stdout",
     "output_type": "stream",
     "text": [
      "combining channels using \"mean\"\n",
      "combining channels using \"mean\"\n",
      "combining channels using \"mean\"\n"
     ]
    },
    {
     "data": {
      "text/plain": [
       "[<Figure size 800x600 with 1 Axes>]"
      ]
     },
     "execution_count": 109,
     "metadata": {},
     "output_type": "execute_result"
    }
   ],
   "source": [
    "#for i in ('meanx','res','a'):\n",
    "mne.viz.plot_compare_evokeds([meanx,res,a],combine = 'mean') #żeby zadziałało w poprzednich polach trzeba zastosować average()"
   ]
  },
  {
   "cell_type": "code",
   "execution_count": 71,
   "metadata": {},
   "outputs": [
    {
     "name": "stderr",
     "output_type": "stream",
     "text": [
      "WARNING:root:Did not find any electrode locations (in the info object), will attempt to use digitization points instead. However, if digitization points do not correspond to the EEG electrodes, this will lead to bad results. Please verify that the sensor locations in the plot are accurate.\n",
      "Traceback (most recent call last):\n",
      "  File \"D:\\Anaconda\\lib\\site-packages\\matplotlib\\cbook\\__init__.py\", line 196, in process\n",
      "    func(*args, **kwargs)\n",
      "  File \"D:\\Anaconda\\lib\\site-packages\\matplotlib\\widgets.py\", line 1579, in release\n",
      "    self._release(event)\n",
      "  File \"D:\\Anaconda\\lib\\site-packages\\matplotlib\\widgets.py\", line 1812, in _release\n",
      "    self.onselect(vmin, vmax)\n",
      "  File \"D:\\Anaconda\\lib\\site-packages\\mne\\viz\\evoked.py\", line 119, in _line_plot_onselect\n",
      "    _prepare_topomap_plot(info, ch_type, sphere=sphere)\n",
      "  File \"D:\\Anaconda\\lib\\site-packages\\mne\\viz\\topomap.py\", line 82, in _prepare_topomap_plot\n",
      "    layout = find_layout(info)\n",
      "  File \"D:\\Anaconda\\lib\\site-packages\\mne\\channels\\layout.py\", line 425, in find_layout\n",
      "    return make_eeg_layout(info, exclude=exclude)\n",
      "  File \"D:\\Anaconda\\lib\\site-packages\\mne\\channels\\layout.py\", line 259, in make_eeg_layout\n",
      "    loc2d = _find_topomap_coords(info, picks)\n",
      "  File \"D:\\Anaconda\\lib\\site-packages\\mne\\channels\\layout.py\", line 624, in _find_topomap_coords\n",
      "    pos = _auto_topomap_coords(\n",
      "  File \"D:\\Anaconda\\lib\\site-packages\\mne\\channels\\layout.py\", line 689, in _auto_topomap_coords\n",
      "    raise RuntimeError('No digitization points found.')\n",
      "RuntimeError: No digitization points found.\n",
      "WARNING:root:Did not find any electrode locations (in the info object), will attempt to use digitization points instead. However, if digitization points do not correspond to the EEG electrodes, this will lead to bad results. Please verify that the sensor locations in the plot are accurate.\n",
      "Traceback (most recent call last):\n",
      "  File \"D:\\Anaconda\\lib\\site-packages\\matplotlib\\cbook\\__init__.py\", line 196, in process\n",
      "    func(*args, **kwargs)\n",
      "  File \"D:\\Anaconda\\lib\\site-packages\\matplotlib\\widgets.py\", line 1579, in release\n",
      "    self._release(event)\n",
      "  File \"D:\\Anaconda\\lib\\site-packages\\matplotlib\\widgets.py\", line 1812, in _release\n",
      "    self.onselect(vmin, vmax)\n",
      "  File \"D:\\Anaconda\\lib\\site-packages\\mne\\viz\\evoked.py\", line 119, in _line_plot_onselect\n",
      "    _prepare_topomap_plot(info, ch_type, sphere=sphere)\n",
      "  File \"D:\\Anaconda\\lib\\site-packages\\mne\\viz\\topomap.py\", line 82, in _prepare_topomap_plot\n",
      "    layout = find_layout(info)\n",
      "  File \"D:\\Anaconda\\lib\\site-packages\\mne\\channels\\layout.py\", line 425, in find_layout\n",
      "    return make_eeg_layout(info, exclude=exclude)\n",
      "  File \"D:\\Anaconda\\lib\\site-packages\\mne\\channels\\layout.py\", line 259, in make_eeg_layout\n",
      "    loc2d = _find_topomap_coords(info, picks)\n",
      "  File \"D:\\Anaconda\\lib\\site-packages\\mne\\channels\\layout.py\", line 624, in _find_topomap_coords\n",
      "    pos = _auto_topomap_coords(\n",
      "  File \"D:\\Anaconda\\lib\\site-packages\\mne\\channels\\layout.py\", line 689, in _auto_topomap_coords\n",
      "    raise RuntimeError('No digitization points found.')\n",
      "RuntimeError: No digitization points found.\n"
     ]
    }
   ],
   "source": [
    "for i in meanx:\n",
    "    i.plot() #jeżeli wcześniej było włączone average()"
   ]
  },
  {
   "cell_type": "code",
   "execution_count": 114,
   "metadata": {},
   "outputs": [
    {
     "ename": "TypeError",
     "evalue": "All elements must be an instance of Evoked or AverageTFR, got <class 'mne.epochs.Epochs'> instead",
     "output_type": "error",
     "traceback": [
      "\u001b[1;31m---------------------------------------------------------------------------\u001b[0m",
      "\u001b[1;31mTypeError\u001b[0m                                 Traceback (most recent call last)",
      "\u001b[1;32m<ipython-input-114-48525e6a9288>\u001b[0m in \u001b[0;36m<module>\u001b[1;34m\u001b[0m\n\u001b[0;32m      1\u001b[0m \u001b[1;31m#mne.grand_average(meanx) # jak wyżej\u001b[0m\u001b[1;33m\u001b[0m\u001b[1;33m\u001b[0m\u001b[1;33m\u001b[0m\u001b[0m\n\u001b[1;32m----> 2\u001b[1;33m \u001b[0mmne\u001b[0m\u001b[1;33m.\u001b[0m\u001b[0mgrand_average\u001b[0m\u001b[1;33m(\u001b[0m\u001b[1;33m(\u001b[0m\u001b[0mmeanx\u001b[0m\u001b[1;33m)\u001b[0m\u001b[1;33m)\u001b[0m\u001b[1;33m.\u001b[0m\u001b[0mplot\u001b[0m\u001b[1;33m(\u001b[0m\u001b[1;33m)\u001b[0m\u001b[1;33m\u001b[0m\u001b[1;33m\u001b[0m\u001b[0m\n\u001b[0m",
      "\u001b[1;32mD:\\Anaconda\\lib\\site-packages\\mne\\utils\\numerics.py\u001b[0m in \u001b[0;36mgrand_average\u001b[1;34m(all_inst, interpolate_bads, drop_bads)\u001b[0m\n\u001b[0;32m    573\u001b[0m \u001b[1;33m\u001b[0m\u001b[0m\n\u001b[0;32m    574\u001b[0m     \u001b[0minst_type\u001b[0m \u001b[1;33m=\u001b[0m \u001b[0mtype\u001b[0m\u001b[1;33m(\u001b[0m\u001b[0mall_inst\u001b[0m\u001b[1;33m[\u001b[0m\u001b[1;36m0\u001b[0m\u001b[1;33m]\u001b[0m\u001b[1;33m)\u001b[0m\u001b[1;33m\u001b[0m\u001b[1;33m\u001b[0m\u001b[0m\n\u001b[1;32m--> 575\u001b[1;33m     \u001b[0m_validate_type\u001b[0m\u001b[1;33m(\u001b[0m\u001b[0mall_inst\u001b[0m\u001b[1;33m[\u001b[0m\u001b[1;36m0\u001b[0m\u001b[1;33m]\u001b[0m\u001b[1;33m,\u001b[0m \u001b[1;33m(\u001b[0m\u001b[0mEvoked\u001b[0m\u001b[1;33m,\u001b[0m \u001b[0mAverageTFR\u001b[0m\u001b[1;33m)\u001b[0m\u001b[1;33m,\u001b[0m \u001b[1;34m'All elements'\u001b[0m\u001b[1;33m)\u001b[0m\u001b[1;33m\u001b[0m\u001b[1;33m\u001b[0m\u001b[0m\n\u001b[0m\u001b[0;32m    576\u001b[0m     \u001b[1;32mfor\u001b[0m \u001b[0minst\u001b[0m \u001b[1;32min\u001b[0m \u001b[0mall_inst\u001b[0m\u001b[1;33m:\u001b[0m\u001b[1;33m\u001b[0m\u001b[1;33m\u001b[0m\u001b[0m\n\u001b[0;32m    577\u001b[0m         \u001b[0m_validate_type\u001b[0m\u001b[1;33m(\u001b[0m\u001b[0minst\u001b[0m\u001b[1;33m,\u001b[0m \u001b[0minst_type\u001b[0m\u001b[1;33m,\u001b[0m \u001b[1;34m'All elements'\u001b[0m\u001b[1;33m,\u001b[0m \u001b[1;34m'of the same type'\u001b[0m\u001b[1;33m)\u001b[0m\u001b[1;33m\u001b[0m\u001b[1;33m\u001b[0m\u001b[0m\n",
      "\u001b[1;32mD:\\Anaconda\\lib\\site-packages\\mne\\utils\\check.py\u001b[0m in \u001b[0;36m_validate_type\u001b[1;34m(item, types, item_name, type_name)\u001b[0m\n\u001b[0;32m    386\u001b[0m                 \u001b[0mtype_name\u001b[0m\u001b[1;33m[\u001b[0m\u001b[1;33m-\u001b[0m\u001b[1;36m1\u001b[0m\u001b[1;33m]\u001b[0m \u001b[1;33m=\u001b[0m \u001b[1;34m'or '\u001b[0m \u001b[1;33m+\u001b[0m \u001b[0mtype_name\u001b[0m\u001b[1;33m[\u001b[0m\u001b[1;33m-\u001b[0m\u001b[1;36m1\u001b[0m\u001b[1;33m]\u001b[0m\u001b[1;33m\u001b[0m\u001b[1;33m\u001b[0m\u001b[0m\n\u001b[0;32m    387\u001b[0m                 \u001b[0mtype_name\u001b[0m \u001b[1;33m=\u001b[0m \u001b[1;34m', '\u001b[0m\u001b[1;33m.\u001b[0m\u001b[0mjoin\u001b[0m\u001b[1;33m(\u001b[0m\u001b[0mtype_name\u001b[0m\u001b[1;33m)\u001b[0m\u001b[1;33m\u001b[0m\u001b[1;33m\u001b[0m\u001b[0m\n\u001b[1;32m--> 388\u001b[1;33m         raise TypeError('%s must be an instance of %s, got %s instead'\n\u001b[0m\u001b[0;32m    389\u001b[0m                         % (item_name, type_name, type(item),))\n\u001b[0;32m    390\u001b[0m \u001b[1;33m\u001b[0m\u001b[0m\n",
      "\u001b[1;31mTypeError\u001b[0m: All elements must be an instance of Evoked or AverageTFR, got <class 'mne.epochs.Epochs'> instead"
     ]
    }
   ],
   "source": [
    "#mne.grand_average(meanx) # jak wyżej\n",
    "mne.grand_average((meanx)).plot()"
   ]
  },
  {
   "cell_type": "code",
   "execution_count": 115,
   "metadata": {},
   "outputs": [
    {
     "ename": "TypeError",
     "evalue": "All elements must be an instance of Evoked or AverageTFR, got <class 'mne.epochs.Epochs'> instead",
     "output_type": "error",
     "traceback": [
      "\u001b[1;31m---------------------------------------------------------------------------\u001b[0m",
      "\u001b[1;31mTypeError\u001b[0m                                 Traceback (most recent call last)",
      "\u001b[1;32m<ipython-input-115-4ac6101f5a50>\u001b[0m in \u001b[0;36m<module>\u001b[1;34m\u001b[0m\n\u001b[1;32m----> 1\u001b[1;33m \u001b[0mmne\u001b[0m\u001b[1;33m.\u001b[0m\u001b[0mgrand_average\u001b[0m\u001b[1;33m(\u001b[0m\u001b[0ma\u001b[0m\u001b[1;33m)\u001b[0m\u001b[1;33m.\u001b[0m\u001b[0mplot\u001b[0m\u001b[1;33m(\u001b[0m\u001b[1;33m)\u001b[0m\u001b[1;33m\u001b[0m\u001b[1;33m\u001b[0m\u001b[0m\n\u001b[0m",
      "\u001b[1;32mD:\\Anaconda\\lib\\site-packages\\mne\\utils\\numerics.py\u001b[0m in \u001b[0;36mgrand_average\u001b[1;34m(all_inst, interpolate_bads, drop_bads)\u001b[0m\n\u001b[0;32m    573\u001b[0m \u001b[1;33m\u001b[0m\u001b[0m\n\u001b[0;32m    574\u001b[0m     \u001b[0minst_type\u001b[0m \u001b[1;33m=\u001b[0m \u001b[0mtype\u001b[0m\u001b[1;33m(\u001b[0m\u001b[0mall_inst\u001b[0m\u001b[1;33m[\u001b[0m\u001b[1;36m0\u001b[0m\u001b[1;33m]\u001b[0m\u001b[1;33m)\u001b[0m\u001b[1;33m\u001b[0m\u001b[1;33m\u001b[0m\u001b[0m\n\u001b[1;32m--> 575\u001b[1;33m     \u001b[0m_validate_type\u001b[0m\u001b[1;33m(\u001b[0m\u001b[0mall_inst\u001b[0m\u001b[1;33m[\u001b[0m\u001b[1;36m0\u001b[0m\u001b[1;33m]\u001b[0m\u001b[1;33m,\u001b[0m \u001b[1;33m(\u001b[0m\u001b[0mEvoked\u001b[0m\u001b[1;33m,\u001b[0m \u001b[0mAverageTFR\u001b[0m\u001b[1;33m)\u001b[0m\u001b[1;33m,\u001b[0m \u001b[1;34m'All elements'\u001b[0m\u001b[1;33m)\u001b[0m\u001b[1;33m\u001b[0m\u001b[1;33m\u001b[0m\u001b[0m\n\u001b[0m\u001b[0;32m    576\u001b[0m     \u001b[1;32mfor\u001b[0m \u001b[0minst\u001b[0m \u001b[1;32min\u001b[0m \u001b[0mall_inst\u001b[0m\u001b[1;33m:\u001b[0m\u001b[1;33m\u001b[0m\u001b[1;33m\u001b[0m\u001b[0m\n\u001b[0;32m    577\u001b[0m         \u001b[0m_validate_type\u001b[0m\u001b[1;33m(\u001b[0m\u001b[0minst\u001b[0m\u001b[1;33m,\u001b[0m \u001b[0minst_type\u001b[0m\u001b[1;33m,\u001b[0m \u001b[1;34m'All elements'\u001b[0m\u001b[1;33m,\u001b[0m \u001b[1;34m'of the same type'\u001b[0m\u001b[1;33m)\u001b[0m\u001b[1;33m\u001b[0m\u001b[1;33m\u001b[0m\u001b[0m\n",
      "\u001b[1;32mD:\\Anaconda\\lib\\site-packages\\mne\\utils\\check.py\u001b[0m in \u001b[0;36m_validate_type\u001b[1;34m(item, types, item_name, type_name)\u001b[0m\n\u001b[0;32m    386\u001b[0m                 \u001b[0mtype_name\u001b[0m\u001b[1;33m[\u001b[0m\u001b[1;33m-\u001b[0m\u001b[1;36m1\u001b[0m\u001b[1;33m]\u001b[0m \u001b[1;33m=\u001b[0m \u001b[1;34m'or '\u001b[0m \u001b[1;33m+\u001b[0m \u001b[0mtype_name\u001b[0m\u001b[1;33m[\u001b[0m\u001b[1;33m-\u001b[0m\u001b[1;36m1\u001b[0m\u001b[1;33m]\u001b[0m\u001b[1;33m\u001b[0m\u001b[1;33m\u001b[0m\u001b[0m\n\u001b[0;32m    387\u001b[0m                 \u001b[0mtype_name\u001b[0m \u001b[1;33m=\u001b[0m \u001b[1;34m', '\u001b[0m\u001b[1;33m.\u001b[0m\u001b[0mjoin\u001b[0m\u001b[1;33m(\u001b[0m\u001b[0mtype_name\u001b[0m\u001b[1;33m)\u001b[0m\u001b[1;33m\u001b[0m\u001b[1;33m\u001b[0m\u001b[0m\n\u001b[1;32m--> 388\u001b[1;33m         raise TypeError('%s must be an instance of %s, got %s instead'\n\u001b[0m\u001b[0;32m    389\u001b[0m                         % (item_name, type_name, type(item),))\n\u001b[0;32m    390\u001b[0m \u001b[1;33m\u001b[0m\u001b[0m\n",
      "\u001b[1;31mTypeError\u001b[0m: All elements must be an instance of Evoked or AverageTFR, got <class 'mne.epochs.Epochs'> instead"
     ]
    }
   ],
   "source": [
    "mne.grand_average(a).plot()"
   ]
  },
  {
   "cell_type": "code",
   "execution_count": 148,
   "metadata": {},
   "outputs": [],
   "source": [
    "#mne.grand_average(res).plot()"
   ]
  },
  {
   "cell_type": "code",
   "execution_count": 75,
   "metadata": {},
   "outputs": [],
   "source": [
    "#aaa = a[0].get_data()\n",
    "#menx = meanx[0].get_data()\n",
    "#ress = res[0].get_data() #indeks wskazuje osobę\n"
   ]
  },
  {
   "cell_type": "code",
   "execution_count": 180,
   "metadata": {},
   "outputs": [
    {
     "data": {
      "text/plain": [
       "['CV_20 CAT_35rejected.set',\n",
       " 'CV_23_CAT_35rejected.set',\n",
       " 'CV_25_CAT_35rejected.set',\n",
       " 'CV_32_cat_35ICA.set',\n",
       " 'cv_33_catpop_filter_cleaned.set',\n",
       " 'DF_12_catpop_filter_cleaned.set',\n",
       " 'ER_03_CATpop_filter_ICA_cleaned.set',\n",
       " 'FG_13_CATpop_filter_cleaned.set',\n",
       " 'HJ_15_CATpop_filter_ICA_cleaned.set',\n",
       " 'IO_08_CATpop_filter_ICA_cleaned.set',\n",
       " 'RT_04_CATpop_filtr_ICA_recznie.set',\n",
       " 'SD_11_CATpop_filter_ICA_recznie.set',\n",
       " 'TY_05_CATpop_filtr_ICA_recznie.set',\n",
       " 'XC_19_CATpop_filtr_ICA_recznie.set',\n",
       " 'YU_06_catpop_filtr_ICA_recznie.set',\n",
       " 'ZX_18_CATpop_filtr_ICA_recznie.set']"
      ]
     },
     "execution_count": 180,
     "metadata": {},
     "output_type": "execute_result"
    }
   ],
   "source": [
    "sets"
   ]
  },
  {
   "cell_type": "code",
   "execution_count": 272,
   "metadata": {},
   "outputs": [
    {
     "name": "stdout",
     "output_type": "stream",
     "text": [
      "Using a threshold of 3.073763\n",
      "stat_fun(H1): min=0.003484 max=11.470758\n",
      "Running initial clustering\n",
      "Found 7 clusters\n",
      "Permuting 9999 times...\n"
     ]
    },
    {
     "data": {
      "application/vnd.jupyter.widget-view+json": {
       "model_id": "d9ce412ec4244eb7b4dd9d97b157e8d8",
       "version_major": 2,
       "version_minor": 0
      },
      "text/plain": [
       "HBox(children=(FloatProgress(value=0.0, max=9999.0), HTML(value='')))"
      ]
     },
     "metadata": {},
     "output_type": "display_data"
    },
    {
     "name": "stdout",
     "output_type": "stream",
     "text": [
      "\n",
      "Computing cluster p-values\n",
      "Done.\n"
     ]
    }
   ],
   "source": [
    "#X = [meanx[0],a[0],res[0]]  # indeks = osoba\n",
    "#X = [np.transpose(x, (0, 2, 1)) for x in X]\n",
    "xs = []\n",
    "for i in range(len(sets)):\n",
    "    X = [meanx[i],a[i],res[i]]  # indeks = osoba\n",
    "    X = [np.transpose(x, (0,2, 1)) for x in X]\n",
    "    xs.append(X)\n",
    "times = meanx[0].times\n",
    "#f_thresh = mne.stats.f_threshold_mway_rm(len(sets),[1,1,1],effects,0.05)\n",
    "T_obs, clusters, p_values,_ = mne.stats.spatio_temporal_cluster_test(X, n_permutations=10000,\n",
    "                                             tail=1,\n",
    "                                             n_jobs=1, buffer_size=None)"
   ]
  },
  {
   "cell_type": "code",
   "execution_count": 273,
   "metadata": {},
   "outputs": [
    {
     "data": {
      "text/plain": [
       "[<matplotlib.lines.Line2D at 0x22e13db3700>,\n",
       " <matplotlib.lines.Line2D at 0x22e13db37f0>,\n",
       " <matplotlib.lines.Line2D at 0x22e13db38b0>]"
      ]
     },
     "execution_count": 273,
     "metadata": {},
     "output_type": "execute_result"
    }
   ],
   "source": [
    "#good_cluster_inds = np.where(p_values < 0.05)[0]\n",
    "#fst1 = [i[0] for i in t_obs]\n",
    "#fst2 = [i[1] for i in t_obs]\n",
    "#fst3 = [i[2] for i in t_obs]\n",
    "#p_values\n",
    "#plt.plot(times,p_values)\n",
    "plt.plot(times,T_obs)\n",
    "#plt.ylabel(\"Statystyka F\")\n",
    "#plt.ylabel(\"Statystyka F dla różnic\")\n",
    "#plt.xlabel(\"czas po bodźcu\")\n",
    "#p_accept = 0.01\n",
    "#good_cluster_inds = np.where(p_values < p_accept)[0]\n",
    "##good_cluster_inds\n",
    "#for i_clu, clu_idx in enumerate(good_cluster_inds):\n",
    "#    time_inds, space_inds = np.squeeze(clusters[clu_idx])\n",
    "#    ch_inds = np.unique(time_inds)\n",
    "#    time_inds = np.unique(time_inds)\n",
    "#    f_map = t_obs[time_inds, ...].mean(axis=0)\n",
    "#    sig_times = epochs[0].times[time_inds]\n",
    "#    fig,ax_topo = plt.subplots(1)\n",
    "#    #f_evoked = mne.EvokedArray(f_map[:,np.newaxis],epochs[0].info,tmin=0)\n",
    "#    #f_evoked.plot_topomap(times=0,mask=mask)\n",
    "#    divider = make_axes_locatable(ax_topo)\n",
    "#    ax_colorbar = divider.append_axes('right',size = '5%',pad=0.05)\n",
    "#    ax_signals = divider.append_axes('right')\n",
    "#    ymin,ymax=ax_signals.get_ylim()\n",
    "#"
   ]
  },
  {
   "cell_type": "code",
   "execution_count": 35,
   "metadata": {},
   "outputs": [
    {
     "ename": "AttributeError",
     "evalue": "'EvokedArray' object has no attribute 'get_data'",
     "output_type": "error",
     "traceback": [
      "\u001b[1;31m---------------------------------------------------------------------------\u001b[0m",
      "\u001b[1;31mAttributeError\u001b[0m                            Traceback (most recent call last)",
      "\u001b[1;32m<ipython-input-35-1ef2a87b5c7c>\u001b[0m in \u001b[0;36m<module>\u001b[1;34m\u001b[0m\n\u001b[1;32m----> 1\u001b[1;33m \u001b[0mdata\u001b[0m \u001b[1;33m=\u001b[0m \u001b[0mobspy\u001b[0m\u001b[1;33m.\u001b[0m\u001b[0msignal\u001b[0m\u001b[1;33m.\u001b[0m\u001b[0mfilter\u001b[0m\u001b[1;33m.\u001b[0m\u001b[0menvelope\u001b[0m\u001b[1;33m(\u001b[0m\u001b[0mmeanx\u001b[0m\u001b[1;33m[\u001b[0m\u001b[1;36m1\u001b[0m\u001b[1;33m]\u001b[0m\u001b[1;33m.\u001b[0m\u001b[0mget_data\u001b[0m\u001b[1;33m(\u001b[0m\u001b[0mpicks\u001b[0m\u001b[1;33m=\u001b[0m\u001b[1;34m'O1'\u001b[0m\u001b[1;33m)\u001b[0m\u001b[1;33m[\u001b[0m\u001b[1;36m0\u001b[0m\u001b[1;33m]\u001b[0m\u001b[1;33m[\u001b[0m\u001b[1;36m0\u001b[0m\u001b[1;33m]\u001b[0m\u001b[1;33m)\u001b[0m \u001b[1;31m# dla jedego kanału\u001b[0m\u001b[1;33m\u001b[0m\u001b[1;33m\u001b[0m\u001b[0m\n\u001b[0m\u001b[0;32m      2\u001b[0m \u001b[1;31m#plt.plot(meanx[0].times,data)\u001b[0m\u001b[1;33m\u001b[0m\u001b[1;33m\u001b[0m\u001b[1;33m\u001b[0m\u001b[0m\n\u001b[0;32m      3\u001b[0m \u001b[1;31m#plt.plot(meanx[0].times,meanx[1].get_data()[0][0])\u001b[0m\u001b[1;33m\u001b[0m\u001b[1;33m\u001b[0m\u001b[1;33m\u001b[0m\u001b[0m\n\u001b[0;32m      4\u001b[0m \u001b[1;31m#meanx[0][0].get_data()\u001b[0m\u001b[1;33m\u001b[0m\u001b[1;33m\u001b[0m\u001b[1;33m\u001b[0m\u001b[0m\n\u001b[0;32m      5\u001b[0m \u001b[1;31m#plt.plot(meanx[0].times,meanx[0].get_data()[0][0])\u001b[0m\u001b[1;33m\u001b[0m\u001b[1;33m\u001b[0m\u001b[1;33m\u001b[0m\u001b[0m\n",
      "\u001b[1;31mAttributeError\u001b[0m: 'EvokedArray' object has no attribute 'get_data'"
     ]
    }
   ],
   "source": [
    "#data = obspy.signal.filter.envelope(meanx[1].get_data(picks='O1')[0][0]) # dla jedego kanału\n",
    "#plt.plot(meanx[0].times,data)\n",
    "#plt.plot(meanx[0].times,meanx[1].get_data()[0][0])\n",
    "#meanx[0][0].get_data()\n",
    "#plt.plot(meanx[0].times,meanx[0].get_data()[0][0])\n",
    "#plt.plot(meanx[0].times,meanx[0].get_data()[0][1])"
   ]
  },
  {
   "cell_type": "code",
   "execution_count": 36,
   "metadata": {},
   "outputs": [
    {
     "ename": "NameError",
     "evalue": "name 'data' is not defined",
     "output_type": "error",
     "traceback": [
      "\u001b[1;31m---------------------------------------------------------------------------\u001b[0m",
      "\u001b[1;31mNameError\u001b[0m                                 Traceback (most recent call last)",
      "\u001b[1;32m<ipython-input-36-a3c6fe73cbd8>\u001b[0m in \u001b[0;36m<module>\u001b[1;34m\u001b[0m\n\u001b[1;32m----> 1\u001b[1;33m \u001b[0mplt\u001b[0m\u001b[1;33m.\u001b[0m\u001b[0mplot\u001b[0m\u001b[1;33m(\u001b[0m\u001b[0mmeanx\u001b[0m\u001b[1;33m[\u001b[0m\u001b[1;36m0\u001b[0m\u001b[1;33m]\u001b[0m\u001b[1;33m.\u001b[0m\u001b[0mtimes\u001b[0m\u001b[1;33m,\u001b[0m\u001b[0mdata\u001b[0m\u001b[1;33m)\u001b[0m\u001b[1;33m\u001b[0m\u001b[1;33m\u001b[0m\u001b[0m\n\u001b[0m",
      "\u001b[1;31mNameError\u001b[0m: name 'data' is not defined"
     ]
    }
   ],
   "source": [
    "plt.plot(meanx[0].times,data)"
   ]
  },
  {
   "cell_type": "code",
   "execution_count": 96,
   "metadata": {},
   "outputs": [],
   "source": [
    "for j in range(len(a)):\n",
    "    for i in range(2):\n",
    "        if i == 0:\n",
    "            z = 'O2'\n",
    "        else:\n",
    "            z = 'O1'\n",
    "        dat = obspy.signal.filter.envelope(a[j].data[i])\n",
    "        data = obspy.signal.filter.envelope(meanx[j].data[i])\n",
    "        dats = obspy.signal.filter.envelope(res[j].data[i])\n",
    "        plt.figure()\n",
    "        plt.plot(meanx[0].times,dat,label = 'a')\n",
    "        plt.plot(meanx[0].times,data,label = 'x_eksperymentalny')\n",
    "        plt.plot(meanx[0].times,dats,label = 'res')\n",
    "        plt.title(sets[j][:5]+'w zależności od warunku dla '+z)\n",
    "        plt.legend()"
   ]
  },
  {
   "cell_type": "code",
   "execution_count": null,
   "metadata": {},
   "outputs": [],
   "source": []
  }
 ],
 "metadata": {
  "kernelspec": {
   "display_name": "Python 3",
   "language": "python",
   "name": "python3"
  },
  "language_info": {
   "codemirror_mode": {
    "name": "ipython",
    "version": 3
   },
   "file_extension": ".py",
   "mimetype": "text/x-python",
   "name": "python",
   "nbconvert_exporter": "python",
   "pygments_lexer": "ipython3",
   "version": "3.8.3"
  }
 },
 "nbformat": 4,
 "nbformat_minor": 4
}
